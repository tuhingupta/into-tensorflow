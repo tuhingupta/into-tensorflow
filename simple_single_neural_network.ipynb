{
  "nbformat": 4,
  "nbformat_minor": 0,
  "metadata": {
    "colab": {
      "name": "simple-single-neural-network.ipynb",
      "version": "0.3.2",
      "provenance": []
    },
    "kernelspec": {
      "name": "python3",
      "display_name": "Python 3"
    }
  },
  "cells": [
    {
      "metadata": {
        "id": "iICzw-YxOVB8",
        "colab_type": "code",
        "colab": {}
      },
      "cell_type": "code",
      "source": [
        "import tensorflow as tf\n",
        "import numpy as np\n",
        "from tensorflow import keras"
      ],
      "execution_count": 0,
      "outputs": []
    },
    {
      "metadata": {
        "id": "DzA-LI9IOsJE",
        "colab_type": "text"
      },
      "cell_type": "markdown",
      "source": [
        "create single cell neural network"
      ]
    },
    {
      "metadata": {
        "id": "arkXu6TAOmO9",
        "colab_type": "code",
        "colab": {
          "base_uri": "https://localhost:8080/",
          "height": 88
        },
        "outputId": "75b0a31e-70bb-4f5f-a399-af9f5daa29b7"
      },
      "cell_type": "code",
      "source": [
        " model = tf.keras.Sequential([keras.layers.Dense(units=1, input_shape=[1])])"
      ],
      "execution_count": 2,
      "outputs": [
        {
          "output_type": "stream",
          "text": [
            "WARNING:tensorflow:From /usr/local/lib/python3.6/dist-packages/tensorflow/python/ops/resource_variable_ops.py:435: colocate_with (from tensorflow.python.framework.ops) is deprecated and will be removed in a future version.\n",
            "Instructions for updating:\n",
            "Colocations handled automatically by placer.\n"
          ],
          "name": "stdout"
        }
      ]
    },
    {
      "metadata": {
        "id": "_3QvC8lkOpcn",
        "colab_type": "text"
      },
      "cell_type": "markdown",
      "source": [
        "compile model with loss and optimizer"
      ]
    },
    {
      "metadata": {
        "id": "nnTNsxSNO5JN",
        "colab_type": "code",
        "colab": {
          "base_uri": "https://localhost:8080/",
          "height": 88
        },
        "outputId": "ae47b4d4-b6e9-47ad-8565-5a730fc47816"
      },
      "cell_type": "code",
      "source": [
        "model.compile(optimizer='sgd', loss='mean_squared_error')"
      ],
      "execution_count": 3,
      "outputs": [
        {
          "output_type": "stream",
          "text": [
            "WARNING:tensorflow:From /usr/local/lib/python3.6/dist-packages/tensorflow/python/keras/utils/losses_utils.py:170: to_float (from tensorflow.python.ops.math_ops) is deprecated and will be removed in a future version.\n",
            "Instructions for updating:\n",
            "Use tf.cast instead.\n"
          ],
          "name": "stdout"
        }
      ]
    },
    {
      "metadata": {
        "id": "wnxhHZw-O8w_",
        "colab_type": "text"
      },
      "cell_type": "markdown",
      "source": [
        "supply xs and ys values "
      ]
    },
    {
      "metadata": {
        "id": "PqSStVZ2O7cW",
        "colab_type": "code",
        "colab": {}
      },
      "cell_type": "code",
      "source": [
        "xs = np.array([-1.0,  0.0, 1.0, 2.0, 3.0, 4.0, 5.0, 6.0], dtype=float)\n",
        "ys = np.array([-3.0, -1.0, 1.0, 3.0, 5.0, 7.0, 9.0, 11.0], dtype=float)"
      ],
      "execution_count": 0,
      "outputs": []
    },
    {
      "metadata": {
        "id": "7UIUZ7JRPGmG",
        "colab_type": "text"
      },
      "cell_type": "markdown",
      "source": [
        "model fit with 500 epochs"
      ]
    },
    {
      "metadata": {
        "id": "YjIXRlT6PFrT",
        "colab_type": "code",
        "colab": {}
      },
      "cell_type": "code",
      "source": [
        "model.fit(xs, ys, epochs=700)"
      ],
      "execution_count": 0,
      "outputs": []
    },
    {
      "metadata": {
        "id": "UkDp90DaPRk9",
        "colab_type": "text"
      },
      "cell_type": "markdown",
      "source": [
        "now print model.predict value. the equation relationship between x & y is y = 2x-1 however model will output a value not exactly equal to the equation"
      ]
    },
    {
      "metadata": {
        "id": "NenDWNvwPNWZ",
        "colab_type": "code",
        "colab": {
          "base_uri": "https://localhost:8080/",
          "height": 34
        },
        "outputId": "c4f62952-14d8-4a93-c9c7-c5494d2c5285"
      },
      "cell_type": "code",
      "source": [
        "print(model.predict([10.0]))"
      ],
      "execution_count": 10,
      "outputs": [
        {
          "output_type": "stream",
          "text": [
            "[[18.999731]]\n"
          ],
          "name": "stdout"
        }
      ]
    }
  ]
}